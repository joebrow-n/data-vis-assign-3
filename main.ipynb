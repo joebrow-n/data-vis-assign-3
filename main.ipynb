{
 "cells": [
  {
   "cell_type": "code",
   "execution_count": 37,
   "metadata": {},
   "outputs": [
    {
     "name": "stdout",
     "output_type": "stream",
     "text": [
      "{'stat name': ['average possession', 'average goals', 'average shots on target', 'average free kicks', 'average corners', 'average fouls', 'average yellow cards', 'average red cards'], 'average values': [43.601785714285725, 1.235267857142857, 3.802157738095238, 14.045386904761902, 4.4234375, 12.282738095238093, 1.8731398809523807, 0.03154761904761905], 'team_values': [51.14285714285713, 2.142857142857143, 6.857142857142857, 17.571428571428573, 5.571428571428571, 16.857142857142858, 2.2857142857142856, 0.0]}\n",
      "  country name  country ranking  average possession  total goals  \\\n",
      "0    ARGENTINA               32           51.142857           15   \n",
      "\n",
      "   total passes  total shots  total shots on target  country avg goals  \\\n",
      "0          3841          104                     48           2.142857   \n",
      "\n",
      "   country avg passes  country avg shots on target  country avg yellow cards  \\\n",
      "0          548.714286                     6.857143                  2.285714   \n",
      "\n",
      "   country avg red cards  country avg free kicks  country avg corners  \\\n",
      "0                    0.0               17.571429             5.571429   \n",
      "\n",
      "   country avg fouls  \n",
      "0          16.857143  \n",
      "{'total avg possession': 43.601785714285725, 'total avg goals': 1.235267857142857, 'total avg passes': 416.40877976190484, 'total avg shots on target': 3.802157738095238, 'total avg yellow cards': 1.8731398809523807, 'total avg red cards': 0.03154761904761905, 'total avg free kicks': 14.045386904761902, 'total avg corners': 4.4234375, 'total avg fouls': 12.282738095238093}\n"
     ]
    },
    {
     "data": {
      "application/vnd.plotly.v1+json": {
       "config": {
        "plotlyServerURL": "https://plot.ly"
       },
       "data": [
        {
         "name": "Average values",
         "type": "bar",
         "x": [
          "average possession",
          "average goals",
          "average shots on target",
          "average free kicks",
          "average corners",
          "average fouls",
          "average yellow cards",
          "average red cards"
         ],
         "y": [
          43.601785714285725,
          1.235267857142857,
          3.802157738095238,
          14.045386904761902,
          4.4234375,
          12.282738095238093,
          1.8731398809523807,
          0.03154761904761905
         ]
        },
        {
         "name": "Team values",
         "type": "bar",
         "x": [
          "average possession",
          "average goals",
          "average shots on target",
          "average free kicks",
          "average corners",
          "average fouls",
          "average yellow cards",
          "average red cards"
         ],
         "y": [
          51.14285714285713,
          2.142857142857143,
          6.857142857142857,
          17.571428571428573,
          5.571428571428571,
          16.857142857142858,
          2.2857142857142856,
          0
         ]
        }
       ],
       "layout": {
        "template": {
         "data": {
          "bar": [
           {
            "error_x": {
             "color": "#2a3f5f"
            },
            "error_y": {
             "color": "#2a3f5f"
            },
            "marker": {
             "line": {
              "color": "#E5ECF6",
              "width": 0.5
             },
             "pattern": {
              "fillmode": "overlay",
              "size": 10,
              "solidity": 0.2
             }
            },
            "type": "bar"
           }
          ],
          "barpolar": [
           {
            "marker": {
             "line": {
              "color": "#E5ECF6",
              "width": 0.5
             },
             "pattern": {
              "fillmode": "overlay",
              "size": 10,
              "solidity": 0.2
             }
            },
            "type": "barpolar"
           }
          ],
          "carpet": [
           {
            "aaxis": {
             "endlinecolor": "#2a3f5f",
             "gridcolor": "white",
             "linecolor": "white",
             "minorgridcolor": "white",
             "startlinecolor": "#2a3f5f"
            },
            "baxis": {
             "endlinecolor": "#2a3f5f",
             "gridcolor": "white",
             "linecolor": "white",
             "minorgridcolor": "white",
             "startlinecolor": "#2a3f5f"
            },
            "type": "carpet"
           }
          ],
          "choropleth": [
           {
            "colorbar": {
             "outlinewidth": 0,
             "ticks": ""
            },
            "type": "choropleth"
           }
          ],
          "contour": [
           {
            "colorbar": {
             "outlinewidth": 0,
             "ticks": ""
            },
            "colorscale": [
             [
              0,
              "#0d0887"
             ],
             [
              0.1111111111111111,
              "#46039f"
             ],
             [
              0.2222222222222222,
              "#7201a8"
             ],
             [
              0.3333333333333333,
              "#9c179e"
             ],
             [
              0.4444444444444444,
              "#bd3786"
             ],
             [
              0.5555555555555556,
              "#d8576b"
             ],
             [
              0.6666666666666666,
              "#ed7953"
             ],
             [
              0.7777777777777778,
              "#fb9f3a"
             ],
             [
              0.8888888888888888,
              "#fdca26"
             ],
             [
              1,
              "#f0f921"
             ]
            ],
            "type": "contour"
           }
          ],
          "contourcarpet": [
           {
            "colorbar": {
             "outlinewidth": 0,
             "ticks": ""
            },
            "type": "contourcarpet"
           }
          ],
          "heatmap": [
           {
            "colorbar": {
             "outlinewidth": 0,
             "ticks": ""
            },
            "colorscale": [
             [
              0,
              "#0d0887"
             ],
             [
              0.1111111111111111,
              "#46039f"
             ],
             [
              0.2222222222222222,
              "#7201a8"
             ],
             [
              0.3333333333333333,
              "#9c179e"
             ],
             [
              0.4444444444444444,
              "#bd3786"
             ],
             [
              0.5555555555555556,
              "#d8576b"
             ],
             [
              0.6666666666666666,
              "#ed7953"
             ],
             [
              0.7777777777777778,
              "#fb9f3a"
             ],
             [
              0.8888888888888888,
              "#fdca26"
             ],
             [
              1,
              "#f0f921"
             ]
            ],
            "type": "heatmap"
           }
          ],
          "heatmapgl": [
           {
            "colorbar": {
             "outlinewidth": 0,
             "ticks": ""
            },
            "colorscale": [
             [
              0,
              "#0d0887"
             ],
             [
              0.1111111111111111,
              "#46039f"
             ],
             [
              0.2222222222222222,
              "#7201a8"
             ],
             [
              0.3333333333333333,
              "#9c179e"
             ],
             [
              0.4444444444444444,
              "#bd3786"
             ],
             [
              0.5555555555555556,
              "#d8576b"
             ],
             [
              0.6666666666666666,
              "#ed7953"
             ],
             [
              0.7777777777777778,
              "#fb9f3a"
             ],
             [
              0.8888888888888888,
              "#fdca26"
             ],
             [
              1,
              "#f0f921"
             ]
            ],
            "type": "heatmapgl"
           }
          ],
          "histogram": [
           {
            "marker": {
             "pattern": {
              "fillmode": "overlay",
              "size": 10,
              "solidity": 0.2
             }
            },
            "type": "histogram"
           }
          ],
          "histogram2d": [
           {
            "colorbar": {
             "outlinewidth": 0,
             "ticks": ""
            },
            "colorscale": [
             [
              0,
              "#0d0887"
             ],
             [
              0.1111111111111111,
              "#46039f"
             ],
             [
              0.2222222222222222,
              "#7201a8"
             ],
             [
              0.3333333333333333,
              "#9c179e"
             ],
             [
              0.4444444444444444,
              "#bd3786"
             ],
             [
              0.5555555555555556,
              "#d8576b"
             ],
             [
              0.6666666666666666,
              "#ed7953"
             ],
             [
              0.7777777777777778,
              "#fb9f3a"
             ],
             [
              0.8888888888888888,
              "#fdca26"
             ],
             [
              1,
              "#f0f921"
             ]
            ],
            "type": "histogram2d"
           }
          ],
          "histogram2dcontour": [
           {
            "colorbar": {
             "outlinewidth": 0,
             "ticks": ""
            },
            "colorscale": [
             [
              0,
              "#0d0887"
             ],
             [
              0.1111111111111111,
              "#46039f"
             ],
             [
              0.2222222222222222,
              "#7201a8"
             ],
             [
              0.3333333333333333,
              "#9c179e"
             ],
             [
              0.4444444444444444,
              "#bd3786"
             ],
             [
              0.5555555555555556,
              "#d8576b"
             ],
             [
              0.6666666666666666,
              "#ed7953"
             ],
             [
              0.7777777777777778,
              "#fb9f3a"
             ],
             [
              0.8888888888888888,
              "#fdca26"
             ],
             [
              1,
              "#f0f921"
             ]
            ],
            "type": "histogram2dcontour"
           }
          ],
          "mesh3d": [
           {
            "colorbar": {
             "outlinewidth": 0,
             "ticks": ""
            },
            "type": "mesh3d"
           }
          ],
          "parcoords": [
           {
            "line": {
             "colorbar": {
              "outlinewidth": 0,
              "ticks": ""
             }
            },
            "type": "parcoords"
           }
          ],
          "pie": [
           {
            "automargin": true,
            "type": "pie"
           }
          ],
          "scatter": [
           {
            "fillpattern": {
             "fillmode": "overlay",
             "size": 10,
             "solidity": 0.2
            },
            "type": "scatter"
           }
          ],
          "scatter3d": [
           {
            "line": {
             "colorbar": {
              "outlinewidth": 0,
              "ticks": ""
             }
            },
            "marker": {
             "colorbar": {
              "outlinewidth": 0,
              "ticks": ""
             }
            },
            "type": "scatter3d"
           }
          ],
          "scattercarpet": [
           {
            "marker": {
             "colorbar": {
              "outlinewidth": 0,
              "ticks": ""
             }
            },
            "type": "scattercarpet"
           }
          ],
          "scattergeo": [
           {
            "marker": {
             "colorbar": {
              "outlinewidth": 0,
              "ticks": ""
             }
            },
            "type": "scattergeo"
           }
          ],
          "scattergl": [
           {
            "marker": {
             "colorbar": {
              "outlinewidth": 0,
              "ticks": ""
             }
            },
            "type": "scattergl"
           }
          ],
          "scattermapbox": [
           {
            "marker": {
             "colorbar": {
              "outlinewidth": 0,
              "ticks": ""
             }
            },
            "type": "scattermapbox"
           }
          ],
          "scatterpolar": [
           {
            "marker": {
             "colorbar": {
              "outlinewidth": 0,
              "ticks": ""
             }
            },
            "type": "scatterpolar"
           }
          ],
          "scatterpolargl": [
           {
            "marker": {
             "colorbar": {
              "outlinewidth": 0,
              "ticks": ""
             }
            },
            "type": "scatterpolargl"
           }
          ],
          "scatterternary": [
           {
            "marker": {
             "colorbar": {
              "outlinewidth": 0,
              "ticks": ""
             }
            },
            "type": "scatterternary"
           }
          ],
          "surface": [
           {
            "colorbar": {
             "outlinewidth": 0,
             "ticks": ""
            },
            "colorscale": [
             [
              0,
              "#0d0887"
             ],
             [
              0.1111111111111111,
              "#46039f"
             ],
             [
              0.2222222222222222,
              "#7201a8"
             ],
             [
              0.3333333333333333,
              "#9c179e"
             ],
             [
              0.4444444444444444,
              "#bd3786"
             ],
             [
              0.5555555555555556,
              "#d8576b"
             ],
             [
              0.6666666666666666,
              "#ed7953"
             ],
             [
              0.7777777777777778,
              "#fb9f3a"
             ],
             [
              0.8888888888888888,
              "#fdca26"
             ],
             [
              1,
              "#f0f921"
             ]
            ],
            "type": "surface"
           }
          ],
          "table": [
           {
            "cells": {
             "fill": {
              "color": "#EBF0F8"
             },
             "line": {
              "color": "white"
             }
            },
            "header": {
             "fill": {
              "color": "#C8D4E3"
             },
             "line": {
              "color": "white"
             }
            },
            "type": "table"
           }
          ]
         },
         "layout": {
          "annotationdefaults": {
           "arrowcolor": "#2a3f5f",
           "arrowhead": 0,
           "arrowwidth": 1
          },
          "autotypenumbers": "strict",
          "coloraxis": {
           "colorbar": {
            "outlinewidth": 0,
            "ticks": ""
           }
          },
          "colorscale": {
           "diverging": [
            [
             0,
             "#8e0152"
            ],
            [
             0.1,
             "#c51b7d"
            ],
            [
             0.2,
             "#de77ae"
            ],
            [
             0.3,
             "#f1b6da"
            ],
            [
             0.4,
             "#fde0ef"
            ],
            [
             0.5,
             "#f7f7f7"
            ],
            [
             0.6,
             "#e6f5d0"
            ],
            [
             0.7,
             "#b8e186"
            ],
            [
             0.8,
             "#7fbc41"
            ],
            [
             0.9,
             "#4d9221"
            ],
            [
             1,
             "#276419"
            ]
           ],
           "sequential": [
            [
             0,
             "#0d0887"
            ],
            [
             0.1111111111111111,
             "#46039f"
            ],
            [
             0.2222222222222222,
             "#7201a8"
            ],
            [
             0.3333333333333333,
             "#9c179e"
            ],
            [
             0.4444444444444444,
             "#bd3786"
            ],
            [
             0.5555555555555556,
             "#d8576b"
            ],
            [
             0.6666666666666666,
             "#ed7953"
            ],
            [
             0.7777777777777778,
             "#fb9f3a"
            ],
            [
             0.8888888888888888,
             "#fdca26"
            ],
            [
             1,
             "#f0f921"
            ]
           ],
           "sequentialminus": [
            [
             0,
             "#0d0887"
            ],
            [
             0.1111111111111111,
             "#46039f"
            ],
            [
             0.2222222222222222,
             "#7201a8"
            ],
            [
             0.3333333333333333,
             "#9c179e"
            ],
            [
             0.4444444444444444,
             "#bd3786"
            ],
            [
             0.5555555555555556,
             "#d8576b"
            ],
            [
             0.6666666666666666,
             "#ed7953"
            ],
            [
             0.7777777777777778,
             "#fb9f3a"
            ],
            [
             0.8888888888888888,
             "#fdca26"
            ],
            [
             1,
             "#f0f921"
            ]
           ]
          },
          "colorway": [
           "#636efa",
           "#EF553B",
           "#00cc96",
           "#ab63fa",
           "#FFA15A",
           "#19d3f3",
           "#FF6692",
           "#B6E880",
           "#FF97FF",
           "#FECB52"
          ],
          "font": {
           "color": "#2a3f5f"
          },
          "geo": {
           "bgcolor": "white",
           "lakecolor": "white",
           "landcolor": "#E5ECF6",
           "showlakes": true,
           "showland": true,
           "subunitcolor": "white"
          },
          "hoverlabel": {
           "align": "left"
          },
          "hovermode": "closest",
          "mapbox": {
           "style": "light"
          },
          "paper_bgcolor": "white",
          "plot_bgcolor": "#E5ECF6",
          "polar": {
           "angularaxis": {
            "gridcolor": "white",
            "linecolor": "white",
            "ticks": ""
           },
           "bgcolor": "#E5ECF6",
           "radialaxis": {
            "gridcolor": "white",
            "linecolor": "white",
            "ticks": ""
           }
          },
          "scene": {
           "xaxis": {
            "backgroundcolor": "#E5ECF6",
            "gridcolor": "white",
            "gridwidth": 2,
            "linecolor": "white",
            "showbackground": true,
            "ticks": "",
            "zerolinecolor": "white"
           },
           "yaxis": {
            "backgroundcolor": "#E5ECF6",
            "gridcolor": "white",
            "gridwidth": 2,
            "linecolor": "white",
            "showbackground": true,
            "ticks": "",
            "zerolinecolor": "white"
           },
           "zaxis": {
            "backgroundcolor": "#E5ECF6",
            "gridcolor": "white",
            "gridwidth": 2,
            "linecolor": "white",
            "showbackground": true,
            "ticks": "",
            "zerolinecolor": "white"
           }
          },
          "shapedefaults": {
           "line": {
            "color": "#2a3f5f"
           }
          },
          "ternary": {
           "aaxis": {
            "gridcolor": "white",
            "linecolor": "white",
            "ticks": ""
           },
           "baxis": {
            "gridcolor": "white",
            "linecolor": "white",
            "ticks": ""
           },
           "bgcolor": "#E5ECF6",
           "caxis": {
            "gridcolor": "white",
            "linecolor": "white",
            "ticks": ""
           }
          },
          "title": {
           "x": 0.05
          },
          "xaxis": {
           "automargin": true,
           "gridcolor": "white",
           "linecolor": "white",
           "ticks": "",
           "title": {
            "standoff": 15
           },
           "zerolinecolor": "white",
           "zerolinewidth": 2
          },
          "yaxis": {
           "automargin": true,
           "gridcolor": "white",
           "linecolor": "white",
           "ticks": "",
           "title": {
            "standoff": 15
           },
           "zerolinecolor": "white",
           "zerolinewidth": 2
          }
         }
        },
        "title": {
         "text": "Grouped bar chart"
        },
        "xaxis": {
         "title": {
          "text": "Stat name"
         }
        },
        "yaxis": {
         "title": {
          "text": "Value"
         }
        }
       }
      }
     },
     "metadata": {},
     "output_type": "display_data"
    },
    {
     "name": "stdout",
     "output_type": "stream",
     "text": [
      "     total_bill   tip     sex smoker   day    time  size\n",
      "0         16.99  1.01  Female     No   Sun  Dinner     2\n",
      "1         10.34  1.66    Male     No   Sun  Dinner     3\n",
      "2         21.01  3.50    Male     No   Sun  Dinner     3\n",
      "3         23.68  3.31    Male     No   Sun  Dinner     2\n",
      "4         24.59  3.61  Female     No   Sun  Dinner     4\n",
      "..          ...   ...     ...    ...   ...     ...   ...\n",
      "239       29.03  5.92    Male     No   Sat  Dinner     3\n",
      "240       27.18  2.00  Female    Yes   Sat  Dinner     2\n",
      "241       22.67  2.00    Male    Yes   Sat  Dinner     2\n",
      "242       17.82  1.75    Male     No   Sat  Dinner     2\n",
      "243       18.78  3.00  Female     No  Thur  Dinner     2\n",
      "\n",
      "[244 rows x 7 columns]\n"
     ]
    }
   ],
   "source": [
    "import pandas as pd\n",
    "import plotly.express as px\n",
    "import plotly.graph_objects as go\n",
    "\n",
    "# ------------------------------------------------------------------------------------------\n",
    "# Import raw data\n",
    "\n",
    "import_data = pd.read_csv(r'Fifa_world_cup_matches.csv')\n",
    "import_extra_data = pd.read_csv(r'extra_data.csv')\n",
    "csv_main_dataframe = pd.DataFrame(import_data)\n",
    "csv_extra_dataframe = pd.DataFrame(import_extra_data)\n",
    "\n",
    "country_stats = {\n",
    "    'country name' : [], \n",
    "    'country ranking': [], \n",
    "    'average possession': [],\n",
    "    'total goals': [], \n",
    "    'total passes': [], \n",
    "    'total shots': [], \n",
    "    'total shots on target': [],\n",
    "    'country avg goals': [],\n",
    "    'country avg passes': [],\n",
    "    'country avg shots on target': [],\n",
    "    'country avg yellow cards': [],\n",
    "    'country avg red cards': [],\n",
    "    'country avg free kicks': [],\n",
    "    'country avg corners': [],\n",
    "    'country avg fouls': []\n",
    "    }\n",
    "\n",
    "average_stats = {\n",
    "    'total avg possession': 0, \n",
    "    'total avg goals': 0, \n",
    "    'total avg passes': 0, \n",
    "    'total avg shots on target': 0, \n",
    "    'total avg yellow cards': 0, \n",
    "    'total avg red cards': 0, \n",
    "    'total avg free kicks': 0,\n",
    "    'total avg corners': 0,\n",
    "    'total avg fouls': 0\n",
    "    }\n",
    "\n",
    "for i in csv_extra_dataframe.index:\n",
    "    avg_possession = 0\n",
    "    total_goals = 0\n",
    "    total_passes = 0\n",
    "    total_shots = 0\n",
    "    total_shots_on_target = 0\n",
    "    total_free_kicks = 0\n",
    "    total_corners = 0\n",
    "    total_fouls = 0\n",
    "    total_yellows = 0\n",
    "    total_reds = 0\n",
    "    game_count = 0\n",
    "    team_name = csv_extra_dataframe['Country'][i]\n",
    "    country_stats['country ranking'].append(32-i)\n",
    "\n",
    "    for j in csv_main_dataframe.index:\n",
    "        first_team_name = csv_main_dataframe['team1'][j]\n",
    "        second_team_name = csv_main_dataframe['team2'][j]\n",
    "\n",
    "        if first_team_name == team_name:\n",
    "            game_count += 1\n",
    "            avg_possession += csv_main_dataframe['possession team1'][j]\n",
    "            total_goals += csv_main_dataframe['number of goals team1'][j]\n",
    "            total_passes += csv_main_dataframe['passes completed team1'][j]\n",
    "            total_shots += csv_main_dataframe['total attempts team1'][j]\n",
    "            total_shots_on_target += csv_main_dataframe['on target attempts team1'][j]\n",
    "            total_free_kicks += csv_main_dataframe['free kicks team1'][j]\n",
    "            total_corners += csv_main_dataframe['corners team1'][j]\n",
    "            total_fouls += csv_main_dataframe['fouls against team2'][j]\n",
    "            total_yellows += csv_main_dataframe['yellow cards team1'][j]\n",
    "            total_reds += csv_main_dataframe['red cards team1'][j]\n",
    "\n",
    "        if second_team_name == team_name:\n",
    "            game_count += 1\n",
    "            avg_possession += csv_main_dataframe['possession team2'][j]\n",
    "            total_goals += csv_main_dataframe['number of goals team2'][j]\n",
    "            total_passes += csv_main_dataframe['passes completed team2'][j]\n",
    "            total_shots += csv_main_dataframe['total attempts team2'][j]\n",
    "            total_shots_on_target += csv_main_dataframe['on target attempts team2'][j]\n",
    "            total_free_kicks += csv_main_dataframe['free kicks team2'][j]\n",
    "            total_corners += csv_main_dataframe['corners team2'][j]\n",
    "            total_fouls += csv_main_dataframe['fouls against team1'][j]\n",
    "            total_yellows += csv_main_dataframe['yellow cards team2'][j]\n",
    "            total_reds += csv_main_dataframe['red cards team2'][j]\n",
    "\n",
    "    total_avg_possession = (avg_possession*100)/game_count\n",
    "    country_stats['country name'].append(team_name)\n",
    "    country_stats['average possession'].append(total_avg_possession)\n",
    "    country_stats['total goals'].append(total_goals)\n",
    "    country_stats['total passes'].append(total_passes)\n",
    "    country_stats['total shots'].append(total_shots)\n",
    "    country_stats['total shots on target'].append(total_shots_on_target)\n",
    "    country_stats['country avg goals'].append(total_goals/game_count)\n",
    "    country_stats['country avg passes'].append(total_passes/game_count)\n",
    "    country_stats['country avg shots on target'].append(total_shots_on_target/game_count)\n",
    "    country_stats['country avg yellow cards'].append(total_yellows/game_count)\n",
    "    country_stats['country avg red cards'].append(total_reds/game_count)\n",
    "    country_stats['country avg free kicks'].append(total_free_kicks/game_count)\n",
    "    country_stats['country avg corners'].append(total_corners/game_count)\n",
    "    country_stats['country avg fouls'].append(total_fouls/game_count)\n",
    "\n",
    "    average_stats['total avg possession'] += total_avg_possession\n",
    "    average_stats['total avg goals'] += total_goals/game_count\n",
    "    average_stats['total avg passes'] += total_passes/game_count\n",
    "    average_stats['total avg shots on target'] += total_shots_on_target/game_count\n",
    "    average_stats['total avg yellow cards'] += total_yellows/game_count\n",
    "    average_stats['total avg red cards'] += total_reds/game_count\n",
    "    average_stats['total avg free kicks'] += total_free_kicks/game_count\n",
    "    average_stats['total avg corners'] += total_corners/game_count\n",
    "    average_stats['total avg fouls'] += total_fouls/game_count\n",
    "\n",
    "average_stats['total avg possession'] = average_stats['total avg possession']/32\n",
    "average_stats['total avg goals'] = average_stats['total avg goals']/32\n",
    "average_stats['total avg passes'] = average_stats['total avg passes']/32\n",
    "average_stats['total avg shots on target'] = average_stats['total avg shots on target']/32\n",
    "average_stats['total avg yellow cards'] = average_stats['total avg yellow cards']/32\n",
    "average_stats['total avg red cards'] = average_stats['total avg red cards']/32\n",
    "average_stats['total avg free kicks'] = average_stats['total avg free kicks']/32\n",
    "average_stats['total avg corners'] = average_stats['total avg corners']/32\n",
    "average_stats['total avg fouls'] = average_stats['total avg fouls']/32\n",
    "\n",
    "country_stats_dataframe = pd.DataFrame(country_stats)\n",
    "\n",
    "df_country_copy = country_stats_dataframe.copy()\n",
    "df_country_copy = df_country_copy.loc[df_country_copy['country name'] == 'ARGENTINA']\n",
    "comparison_dictionary = {\n",
    "    'stat name': \n",
    "        ['average possession', \n",
    "        'average goals', \n",
    "        'average shots on target', \n",
    "        'average free kicks', \n",
    "        'average corners', \n",
    "        'average fouls', \n",
    "        'average yellow cards', \n",
    "        'average red cards'],\n",
    "    'average values': \n",
    "        [average_stats['total avg possession'], \n",
    "        average_stats['total avg goals'], \n",
    "        average_stats['total avg shots on target'], \n",
    "        average_stats['total avg free kicks'], \n",
    "        average_stats['total avg corners'],\n",
    "        average_stats['total avg fouls'],\n",
    "        average_stats['total avg yellow cards'],\n",
    "        average_stats['total avg red cards']],\n",
    "    'team_values': \n",
    "        [df_country_copy.loc[0].at['average possession'],\n",
    "        df_country_copy.loc[0].at['country avg goals'],\n",
    "        df_country_copy.loc[0].at['country avg shots on target'],\n",
    "        df_country_copy.loc[0].at['country avg free kicks'],\n",
    "        df_country_copy.loc[0].at['country avg corners'],\n",
    "        df_country_copy.loc[0].at['country avg fouls'],\n",
    "        df_country_copy.loc[0].at['country avg yellow cards'],\n",
    "        df_country_copy.loc[0].at['country avg red cards']]\n",
    "    }\n",
    "comparison_dataframe = pd.DataFrame(comparison_dictionary)\n",
    "print(comparison_dictionary)\n",
    "print(df_country_copy)\n",
    "print(average_stats)\n",
    "\n",
    "country_name = df_country_copy.loc[0].at['country name']\n",
    "\n",
    "stat_names = comparison_dictionary['stat name']\n",
    "average_values = comparison_dictionary['average values']\n",
    "team_values = comparison_dictionary['team_values']\n",
    "\n",
    "# Create a figure object\n",
    "fig = go.Figure()\n",
    "\n",
    "# Add a trace for the average values\n",
    "fig.add_trace(go.Bar(\n",
    "    x=stat_names,\n",
    "    y=average_values,\n",
    "    name='Average values',\n",
    "))\n",
    "\n",
    "# Add a trace for the team values\n",
    "fig.add_trace(go.Bar(\n",
    "    x=stat_names,\n",
    "    y=team_values,\n",
    "    name='Team values',\n",
    "))\n",
    "\n",
    "# Set the title and labels\n",
    "fig.update_layout(title='Grouped bar chart', xaxis_title='Stat name', yaxis_title='Value')\n",
    "\n",
    "# Show the figure\n",
    "fig.show()\n",
    "\n",
    "print(px.data.tips())\n"
   ]
  }
 ],
 "metadata": {
  "kernelspec": {
   "display_name": "Python 3.10.2 ('assign_3': venv)",
   "language": "python",
   "name": "python3"
  },
  "language_info": {
   "codemirror_mode": {
    "name": "ipython",
    "version": 3
   },
   "file_extension": ".py",
   "mimetype": "text/x-python",
   "name": "python",
   "nbconvert_exporter": "python",
   "pygments_lexer": "ipython3",
   "version": "3.10.2"
  },
  "orig_nbformat": 4,
  "vscode": {
   "interpreter": {
    "hash": "944bb282b007ff6289d946bfc786bd635717a39c3d0f031b090e5989052e9ddb"
   }
  }
 },
 "nbformat": 4,
 "nbformat_minor": 2
}
