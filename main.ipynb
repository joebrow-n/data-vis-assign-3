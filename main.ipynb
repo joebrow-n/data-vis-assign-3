{
 "cells": [
  {
   "cell_type": "code",
   "execution_count": 9,
   "metadata": {},
   "outputs": [
    {
     "name": "stdout",
     "output_type": "stream",
     "text": [
      "    Rank        Country          Stage  Goaldiff\n",
      "0      1      ARGENTINA       Champion         7\n",
      "1      2         FRANCE      Runner-up         8\n",
      "2      3        CROATIA    Third Place         1\n",
      "3      4        MOROCCO   Fourth Place         1\n",
      "4      5    NETHERLANDS  Quarterfinals         6\n",
      "5      6        ENGLAND  Quarterfinals         9\n",
      "6      7         BRAZIL  Quarterfinals         5\n",
      "7      8       PORTUGAL  Quarterfinals         6\n",
      "8      9          JAPAN       Rd of 16         1\n",
      "9     10        SENEGAL       Rd of 16        -2\n",
      "10    11      AUSTRALIA       Rd of 16        -2\n",
      "11    12    SWITZERLAND       Rd of 16        -4\n",
      "12    13          SPAIN       Rd of 16         6\n",
      "13    14  UNITED STATES       Rd of 16        -1\n",
      "14    15         POLAND       Rd of 16        -2\n",
      "15    16    SOUTH KOREA       Rd of 16        -3\n",
      "16    17        GERMANY         Groups         1\n",
      "17    18        ECUADOR         Groups         1\n",
      "18    19       CAMEROON         Groups         0\n",
      "19    20        URUGUAY         Groups         0\n",
      "20    21        TUNISIA         Groups         0\n",
      "21    22         MEXICO         Groups        -1\n",
      "22    23        BELGIUM         Groups        -1\n",
      "23    24          GHANA         Groups        -2\n",
      "24    25   SAUDI ARABIA         Groups        -2\n",
      "25    26           IRAN         Groups        -3\n",
      "26    27     COSTA RICA         Groups        -8\n",
      "27    28        DENMARK         Groups        -2\n",
      "28    29         SERBIA         Groups        -3\n",
      "29    30          WALES         Groups        -5\n",
      "30    31         CANADA         Groups        -5\n",
      "31    32          QATAR         Groups        -6\n",
      "ARGENTINA had an average possession of 51%\n",
      "FRANCE had an average possession of 44%\n",
      "CROATIA had an average possession of 48%\n",
      "MOROCCO had an average possession of 34%\n",
      "NETHERLANDS had an average possession of 45%\n",
      "ENGLAND had an average possession of 57%\n",
      "BRAZIL had an average possession of 50%\n",
      "PORTUGAL had an average possession of 54%\n",
      "JAPAN had an average possession of 29%\n",
      "SENEGAL had an average possession of 39%\n",
      "AUSTRALIA had an average possession of 31%\n",
      "SWITZERLAND had an average possession of 43%\n",
      "SPAIN had an average possession of 69%\n",
      "UNITED STATES had an average possession of 47%\n",
      "POLAND had an average possession of 31%\n",
      "SOUTH KOREA had an average possession of 45%\n",
      "GERMANY had an average possession of 52%\n",
      "ECUADOR had an average possession of 46%\n",
      "CAMEROON had an average possession of 38%\n",
      "URUGUAY had an average possession of 41%\n",
      "TUNISIA had an average possession of 37%\n",
      "MEXICO had an average possession of 48%\n",
      "BELGIUM had an average possession of 49%\n",
      "GHANA had an average possession of 37%\n",
      "SAUDI ARABIA had an average possession of 36%\n",
      "IRAN had an average possession of 31%\n",
      "COSTA RICA had an average possession of 27%\n",
      "DENMARK had an average possession of 53%\n",
      "SERBIA had an average possession of 42%\n",
      "WALES had an average possession of 41%\n",
      "CANADA had an average possession of 47%\n",
      "QATAR had an average possession of 40%\n",
      "     country name  average possession  total goals  total passes  total shots  \\\n",
      "0       ARGENTINA           51.142857           15          3841          104   \n",
      "1          FRANCE           44.857143           16          3192          101   \n",
      "2         CROATIA           48.000000            8          3724           81   \n",
      "3         MOROCCO           34.857143            6          2219           61   \n",
      "4     NETHERLANDS           45.000000           10          2442           40   \n",
      "5         ENGLAND           57.800000           13          2723           60   \n",
      "6          BRAZIL           50.400000            8          2696           90   \n",
      "7        PORTUGAL           54.200000           12          2615           62   \n",
      "8           JAPAN           29.750000            5          1298           42   \n",
      "9         SENEGAL           39.750000            5          1276           51   \n",
      "10      AUSTRALIA           31.250000            4          1206           25   \n",
      "11    SWITZERLAND           43.000000            5          1613           36   \n",
      "12          SPAIN           69.000000            9          3527           51   \n",
      "13  UNITED STATES           47.500000            3          1777           46   \n",
      "14         POLAND           31.750000            3          1129           31   \n",
      "15    SOUTH KOREA           45.000000            3          1303           37   \n",
      "16        GERMANY           52.666667            6          1685           67   \n",
      "17        ECUADOR           46.666667            4          1107           27   \n",
      "18       CAMEROON           38.333333            4           934           27   \n",
      "19        URUGUAY           41.000000            2          1126           32   \n",
      "20        TUNISIA           37.666667            1           964           29   \n",
      "21         MEXICO           48.333333            2          1045           42   \n",
      "22        BELGIUM           49.666667            1          1568           34   \n",
      "23          GHANA           37.666667            5           963           25   \n",
      "24   SAUDI ARABIA           36.666667            3           881           29   \n",
      "25           IRAN           31.333333            4           735           35   \n",
      "26     COSTA RICA           27.666667            3           810           12   \n",
      "27        DENMARK           53.000000            1          1563           35   \n",
      "28         SERBIA           42.666667            5          1164           31   \n",
      "29          WALES           41.000000            1           995           24   \n",
      "30         CANADA           47.000000            2          1288           35   \n",
      "31          QATAR           40.666667            1          1128           21   \n",
      "\n",
      "    total shots on target  \n",
      "0                      48  \n",
      "1                      35  \n",
      "2                      28  \n",
      "3                      17  \n",
      "4                      16  \n",
      "5                      27  \n",
      "6                      41  \n",
      "7                      25  \n",
      "8                      13  \n",
      "9                      14  \n",
      "10                      9  \n",
      "11                     11  \n",
      "12                     16  \n",
      "13                     15  \n",
      "14                      7  \n",
      "15                     12  \n",
      "16                     24  \n",
      "17                     12  \n",
      "18                     14  \n",
      "19                     10  \n",
      "20                      8  \n",
      "21                     15  \n",
      "22                     11  \n",
      "23                     10  \n",
      "24                      9  \n",
      "25                     11  \n",
      "26                      7  \n",
      "27                      9  \n",
      "28                     10  \n",
      "29                      7  \n",
      "30                      6  \n",
      "31                      6  \n"
     ]
    },
    {
     "data": {
      "application/vnd.plotly.v1+json": {
       "config": {
        "plotlyServerURL": "https://plot.ly"
       },
       "data": [
        {
         "alignmentgroup": "True",
         "hovertemplate": "average possession=%{x}<br>country name=%{y}<extra></extra>",
         "legendgroup": "",
         "marker": {
          "color": "#636efa",
          "pattern": {
           "shape": ""
          }
         },
         "name": "",
         "offsetgroup": "",
         "orientation": "h",
         "showlegend": false,
         "textposition": "auto",
         "type": "bar",
         "x": [
          51.14285714285713,
          44.85714285714285,
          48.00000000000001,
          34.857142857142854,
          45,
          57.8,
          50.40000000000001,
          54.2,
          29.75,
          39.75,
          31.25,
          43,
          69,
          47.5,
          31.75,
          45,
          52.666666666666664,
          46.666666666666664,
          38.333333333333336,
          41,
          37.66666666666667,
          48.33333333333334,
          49.666666666666664,
          37.666666666666664,
          36.666666666666664,
          31.333333333333332,
          27.666666666666668,
          53,
          42.666666666666664,
          41,
          47,
          40.666666666666664
         ],
         "xaxis": "x",
         "y": [
          "ARGENTINA",
          "FRANCE",
          "CROATIA",
          "MOROCCO",
          "NETHERLANDS",
          "ENGLAND",
          "BRAZIL",
          "PORTUGAL",
          "JAPAN",
          "SENEGAL",
          "AUSTRALIA",
          "SWITZERLAND",
          "SPAIN",
          "UNITED STATES",
          "POLAND",
          "SOUTH KOREA",
          "GERMANY",
          "ECUADOR",
          "CAMEROON",
          "URUGUAY",
          "TUNISIA",
          "MEXICO",
          "BELGIUM",
          "GHANA",
          "SAUDI ARABIA",
          "IRAN",
          "COSTA RICA",
          "DENMARK",
          "SERBIA",
          "WALES",
          "CANADA",
          "QATAR"
         ],
         "yaxis": "y"
        }
       ],
       "layout": {
        "barmode": "stack",
        "legend": {
         "tracegroupgap": 0
        },
        "margin": {
         "t": 60
        },
        "template": {
         "data": {
          "bar": [
           {
            "error_x": {
             "color": "#2a3f5f"
            },
            "error_y": {
             "color": "#2a3f5f"
            },
            "marker": {
             "line": {
              "color": "#E5ECF6",
              "width": 0.5
             },
             "pattern": {
              "fillmode": "overlay",
              "size": 10,
              "solidity": 0.2
             }
            },
            "type": "bar"
           }
          ],
          "barpolar": [
           {
            "marker": {
             "line": {
              "color": "#E5ECF6",
              "width": 0.5
             },
             "pattern": {
              "fillmode": "overlay",
              "size": 10,
              "solidity": 0.2
             }
            },
            "type": "barpolar"
           }
          ],
          "carpet": [
           {
            "aaxis": {
             "endlinecolor": "#2a3f5f",
             "gridcolor": "white",
             "linecolor": "white",
             "minorgridcolor": "white",
             "startlinecolor": "#2a3f5f"
            },
            "baxis": {
             "endlinecolor": "#2a3f5f",
             "gridcolor": "white",
             "linecolor": "white",
             "minorgridcolor": "white",
             "startlinecolor": "#2a3f5f"
            },
            "type": "carpet"
           }
          ],
          "choropleth": [
           {
            "colorbar": {
             "outlinewidth": 0,
             "ticks": ""
            },
            "type": "choropleth"
           }
          ],
          "contour": [
           {
            "colorbar": {
             "outlinewidth": 0,
             "ticks": ""
            },
            "colorscale": [
             [
              0,
              "#0d0887"
             ],
             [
              0.1111111111111111,
              "#46039f"
             ],
             [
              0.2222222222222222,
              "#7201a8"
             ],
             [
              0.3333333333333333,
              "#9c179e"
             ],
             [
              0.4444444444444444,
              "#bd3786"
             ],
             [
              0.5555555555555556,
              "#d8576b"
             ],
             [
              0.6666666666666666,
              "#ed7953"
             ],
             [
              0.7777777777777778,
              "#fb9f3a"
             ],
             [
              0.8888888888888888,
              "#fdca26"
             ],
             [
              1,
              "#f0f921"
             ]
            ],
            "type": "contour"
           }
          ],
          "contourcarpet": [
           {
            "colorbar": {
             "outlinewidth": 0,
             "ticks": ""
            },
            "type": "contourcarpet"
           }
          ],
          "heatmap": [
           {
            "colorbar": {
             "outlinewidth": 0,
             "ticks": ""
            },
            "colorscale": [
             [
              0,
              "#0d0887"
             ],
             [
              0.1111111111111111,
              "#46039f"
             ],
             [
              0.2222222222222222,
              "#7201a8"
             ],
             [
              0.3333333333333333,
              "#9c179e"
             ],
             [
              0.4444444444444444,
              "#bd3786"
             ],
             [
              0.5555555555555556,
              "#d8576b"
             ],
             [
              0.6666666666666666,
              "#ed7953"
             ],
             [
              0.7777777777777778,
              "#fb9f3a"
             ],
             [
              0.8888888888888888,
              "#fdca26"
             ],
             [
              1,
              "#f0f921"
             ]
            ],
            "type": "heatmap"
           }
          ],
          "heatmapgl": [
           {
            "colorbar": {
             "outlinewidth": 0,
             "ticks": ""
            },
            "colorscale": [
             [
              0,
              "#0d0887"
             ],
             [
              0.1111111111111111,
              "#46039f"
             ],
             [
              0.2222222222222222,
              "#7201a8"
             ],
             [
              0.3333333333333333,
              "#9c179e"
             ],
             [
              0.4444444444444444,
              "#bd3786"
             ],
             [
              0.5555555555555556,
              "#d8576b"
             ],
             [
              0.6666666666666666,
              "#ed7953"
             ],
             [
              0.7777777777777778,
              "#fb9f3a"
             ],
             [
              0.8888888888888888,
              "#fdca26"
             ],
             [
              1,
              "#f0f921"
             ]
            ],
            "type": "heatmapgl"
           }
          ],
          "histogram": [
           {
            "marker": {
             "pattern": {
              "fillmode": "overlay",
              "size": 10,
              "solidity": 0.2
             }
            },
            "type": "histogram"
           }
          ],
          "histogram2d": [
           {
            "colorbar": {
             "outlinewidth": 0,
             "ticks": ""
            },
            "colorscale": [
             [
              0,
              "#0d0887"
             ],
             [
              0.1111111111111111,
              "#46039f"
             ],
             [
              0.2222222222222222,
              "#7201a8"
             ],
             [
              0.3333333333333333,
              "#9c179e"
             ],
             [
              0.4444444444444444,
              "#bd3786"
             ],
             [
              0.5555555555555556,
              "#d8576b"
             ],
             [
              0.6666666666666666,
              "#ed7953"
             ],
             [
              0.7777777777777778,
              "#fb9f3a"
             ],
             [
              0.8888888888888888,
              "#fdca26"
             ],
             [
              1,
              "#f0f921"
             ]
            ],
            "type": "histogram2d"
           }
          ],
          "histogram2dcontour": [
           {
            "colorbar": {
             "outlinewidth": 0,
             "ticks": ""
            },
            "colorscale": [
             [
              0,
              "#0d0887"
             ],
             [
              0.1111111111111111,
              "#46039f"
             ],
             [
              0.2222222222222222,
              "#7201a8"
             ],
             [
              0.3333333333333333,
              "#9c179e"
             ],
             [
              0.4444444444444444,
              "#bd3786"
             ],
             [
              0.5555555555555556,
              "#d8576b"
             ],
             [
              0.6666666666666666,
              "#ed7953"
             ],
             [
              0.7777777777777778,
              "#fb9f3a"
             ],
             [
              0.8888888888888888,
              "#fdca26"
             ],
             [
              1,
              "#f0f921"
             ]
            ],
            "type": "histogram2dcontour"
           }
          ],
          "mesh3d": [
           {
            "colorbar": {
             "outlinewidth": 0,
             "ticks": ""
            },
            "type": "mesh3d"
           }
          ],
          "parcoords": [
           {
            "line": {
             "colorbar": {
              "outlinewidth": 0,
              "ticks": ""
             }
            },
            "type": "parcoords"
           }
          ],
          "pie": [
           {
            "automargin": true,
            "type": "pie"
           }
          ],
          "scatter": [
           {
            "fillpattern": {
             "fillmode": "overlay",
             "size": 10,
             "solidity": 0.2
            },
            "type": "scatter"
           }
          ],
          "scatter3d": [
           {
            "line": {
             "colorbar": {
              "outlinewidth": 0,
              "ticks": ""
             }
            },
            "marker": {
             "colorbar": {
              "outlinewidth": 0,
              "ticks": ""
             }
            },
            "type": "scatter3d"
           }
          ],
          "scattercarpet": [
           {
            "marker": {
             "colorbar": {
              "outlinewidth": 0,
              "ticks": ""
             }
            },
            "type": "scattercarpet"
           }
          ],
          "scattergeo": [
           {
            "marker": {
             "colorbar": {
              "outlinewidth": 0,
              "ticks": ""
             }
            },
            "type": "scattergeo"
           }
          ],
          "scattergl": [
           {
            "marker": {
             "colorbar": {
              "outlinewidth": 0,
              "ticks": ""
             }
            },
            "type": "scattergl"
           }
          ],
          "scattermapbox": [
           {
            "marker": {
             "colorbar": {
              "outlinewidth": 0,
              "ticks": ""
             }
            },
            "type": "scattermapbox"
           }
          ],
          "scatterpolar": [
           {
            "marker": {
             "colorbar": {
              "outlinewidth": 0,
              "ticks": ""
             }
            },
            "type": "scatterpolar"
           }
          ],
          "scatterpolargl": [
           {
            "marker": {
             "colorbar": {
              "outlinewidth": 0,
              "ticks": ""
             }
            },
            "type": "scatterpolargl"
           }
          ],
          "scatterternary": [
           {
            "marker": {
             "colorbar": {
              "outlinewidth": 0,
              "ticks": ""
             }
            },
            "type": "scatterternary"
           }
          ],
          "surface": [
           {
            "colorbar": {
             "outlinewidth": 0,
             "ticks": ""
            },
            "colorscale": [
             [
              0,
              "#0d0887"
             ],
             [
              0.1111111111111111,
              "#46039f"
             ],
             [
              0.2222222222222222,
              "#7201a8"
             ],
             [
              0.3333333333333333,
              "#9c179e"
             ],
             [
              0.4444444444444444,
              "#bd3786"
             ],
             [
              0.5555555555555556,
              "#d8576b"
             ],
             [
              0.6666666666666666,
              "#ed7953"
             ],
             [
              0.7777777777777778,
              "#fb9f3a"
             ],
             [
              0.8888888888888888,
              "#fdca26"
             ],
             [
              1,
              "#f0f921"
             ]
            ],
            "type": "surface"
           }
          ],
          "table": [
           {
            "cells": {
             "fill": {
              "color": "#EBF0F8"
             },
             "line": {
              "color": "white"
             }
            },
            "header": {
             "fill": {
              "color": "#C8D4E3"
             },
             "line": {
              "color": "white"
             }
            },
            "type": "table"
           }
          ]
         },
         "layout": {
          "annotationdefaults": {
           "arrowcolor": "#2a3f5f",
           "arrowhead": 0,
           "arrowwidth": 1
          },
          "autotypenumbers": "strict",
          "coloraxis": {
           "colorbar": {
            "outlinewidth": 0,
            "ticks": ""
           }
          },
          "colorscale": {
           "diverging": [
            [
             0,
             "#8e0152"
            ],
            [
             0.1,
             "#c51b7d"
            ],
            [
             0.2,
             "#de77ae"
            ],
            [
             0.3,
             "#f1b6da"
            ],
            [
             0.4,
             "#fde0ef"
            ],
            [
             0.5,
             "#f7f7f7"
            ],
            [
             0.6,
             "#e6f5d0"
            ],
            [
             0.7,
             "#b8e186"
            ],
            [
             0.8,
             "#7fbc41"
            ],
            [
             0.9,
             "#4d9221"
            ],
            [
             1,
             "#276419"
            ]
           ],
           "sequential": [
            [
             0,
             "#0d0887"
            ],
            [
             0.1111111111111111,
             "#46039f"
            ],
            [
             0.2222222222222222,
             "#7201a8"
            ],
            [
             0.3333333333333333,
             "#9c179e"
            ],
            [
             0.4444444444444444,
             "#bd3786"
            ],
            [
             0.5555555555555556,
             "#d8576b"
            ],
            [
             0.6666666666666666,
             "#ed7953"
            ],
            [
             0.7777777777777778,
             "#fb9f3a"
            ],
            [
             0.8888888888888888,
             "#fdca26"
            ],
            [
             1,
             "#f0f921"
            ]
           ],
           "sequentialminus": [
            [
             0,
             "#0d0887"
            ],
            [
             0.1111111111111111,
             "#46039f"
            ],
            [
             0.2222222222222222,
             "#7201a8"
            ],
            [
             0.3333333333333333,
             "#9c179e"
            ],
            [
             0.4444444444444444,
             "#bd3786"
            ],
            [
             0.5555555555555556,
             "#d8576b"
            ],
            [
             0.6666666666666666,
             "#ed7953"
            ],
            [
             0.7777777777777778,
             "#fb9f3a"
            ],
            [
             0.8888888888888888,
             "#fdca26"
            ],
            [
             1,
             "#f0f921"
            ]
           ]
          },
          "colorway": [
           "#636efa",
           "#EF553B",
           "#00cc96",
           "#ab63fa",
           "#FFA15A",
           "#19d3f3",
           "#FF6692",
           "#B6E880",
           "#FF97FF",
           "#FECB52"
          ],
          "font": {
           "color": "#2a3f5f"
          },
          "geo": {
           "bgcolor": "white",
           "lakecolor": "white",
           "landcolor": "#E5ECF6",
           "showlakes": true,
           "showland": true,
           "subunitcolor": "white"
          },
          "hoverlabel": {
           "align": "left"
          },
          "hovermode": "closest",
          "mapbox": {
           "style": "light"
          },
          "paper_bgcolor": "white",
          "plot_bgcolor": "#E5ECF6",
          "polar": {
           "angularaxis": {
            "gridcolor": "white",
            "linecolor": "white",
            "ticks": ""
           },
           "bgcolor": "#E5ECF6",
           "radialaxis": {
            "gridcolor": "white",
            "linecolor": "white",
            "ticks": ""
           }
          },
          "scene": {
           "xaxis": {
            "backgroundcolor": "#E5ECF6",
            "gridcolor": "white",
            "gridwidth": 2,
            "linecolor": "white",
            "showbackground": true,
            "ticks": "",
            "zerolinecolor": "white"
           },
           "yaxis": {
            "backgroundcolor": "#E5ECF6",
            "gridcolor": "white",
            "gridwidth": 2,
            "linecolor": "white",
            "showbackground": true,
            "ticks": "",
            "zerolinecolor": "white"
           },
           "zaxis": {
            "backgroundcolor": "#E5ECF6",
            "gridcolor": "white",
            "gridwidth": 2,
            "linecolor": "white",
            "showbackground": true,
            "ticks": "",
            "zerolinecolor": "white"
           }
          },
          "shapedefaults": {
           "line": {
            "color": "#2a3f5f"
           }
          },
          "ternary": {
           "aaxis": {
            "gridcolor": "white",
            "linecolor": "white",
            "ticks": ""
           },
           "baxis": {
            "gridcolor": "white",
            "linecolor": "white",
            "ticks": ""
           },
           "bgcolor": "#E5ECF6",
           "caxis": {
            "gridcolor": "white",
            "linecolor": "white",
            "ticks": ""
           }
          },
          "title": {
           "x": 0.05
          },
          "xaxis": {
           "automargin": true,
           "gridcolor": "white",
           "linecolor": "white",
           "ticks": "",
           "title": {
            "standoff": 15
           },
           "zerolinecolor": "white",
           "zerolinewidth": 2
          },
          "yaxis": {
           "automargin": true,
           "gridcolor": "white",
           "linecolor": "white",
           "ticks": "",
           "title": {
            "standoff": 15
           },
           "zerolinecolor": "white",
           "zerolinewidth": 2
          }
         }
        },
        "xaxis": {
         "anchor": "y",
         "domain": [
          0,
          1
         ],
         "title": {
          "text": "average possession"
         }
        },
        "yaxis": {
         "anchor": "x",
         "categoryorder": "total ascending",
         "domain": [
          0,
          1
         ],
         "title": {
          "text": "country name"
         }
        }
       }
      }
     },
     "metadata": {},
     "output_type": "display_data"
    }
   ],
   "source": [
    "import pandas as pd\n",
    "import plotly.express as px  # (version 4.7.0 or higher)\n",
    "import plotly.graph_objects as go\n",
    "\n",
    "import_data = pd.read_csv(r'Fifa_world_cup_matches.csv')\n",
    "import_extra_data = pd.read_csv(r'extra_data.csv')\n",
    "csv_main_dataframe = pd.DataFrame(import_data)\n",
    "csv_extra_dataframe = pd.DataFrame(import_extra_data)\n",
    "# print(csv_main_dataframe)\n",
    "print(csv_extra_dataframe)\n",
    "\n",
    "country_stats = {'country name' : [], 'average possession': [], 'total goals': [], 'total passes': [], 'total shots': [], 'total shots on target': []}\n",
    "for i in csv_extra_dataframe.index:\n",
    "    avg_possession = 0\n",
    "    total_goals = 0\n",
    "    total_passes = 0\n",
    "    total_shots = 0\n",
    "    total_shots_on_target = 0\n",
    "    game_count = 0\n",
    "    team_name = csv_extra_dataframe['Country'][i]\n",
    "\n",
    "    for j in csv_main_dataframe.index:\n",
    "        first_team_name = csv_main_dataframe['team1'][j]\n",
    "        second_team_name = csv_main_dataframe['team2'][j]\n",
    "\n",
    "        if first_team_name == team_name:\n",
    "            game_count += 1\n",
    "            avg_possession += csv_main_dataframe['possession team1'][j]\n",
    "            total_goals += csv_main_dataframe['number of goals team1'][j]\n",
    "            total_passes += csv_main_dataframe['passes completed team1'][j]\n",
    "            total_shots += csv_main_dataframe['total attempts team1'][j]\n",
    "            total_shots_on_target += csv_main_dataframe['on target attempts team1'][j]\n",
    "        \n",
    "        if second_team_name == team_name:\n",
    "            game_count += 1\n",
    "            avg_possession += csv_main_dataframe['possession team2'][j]\n",
    "            total_goals += csv_main_dataframe['number of goals team2'][j]\n",
    "            total_passes += csv_main_dataframe['passes completed team2'][j]\n",
    "            total_shots += csv_main_dataframe['total attempts team2'][j]\n",
    "            total_shots_on_target += csv_main_dataframe['on target attempts team2'][j]\n",
    "\n",
    "    total_avg_possession = (avg_possession*100)/game_count\n",
    "    country_stats['country name'].append(team_name)\n",
    "    country_stats['average possession'].append(total_avg_possession)\n",
    "    country_stats['total goals'].append(total_goals)\n",
    "    country_stats['total passes'].append(total_passes)\n",
    "    country_stats['total shots'].append(total_shots)\n",
    "    country_stats['total shots on target'].append(total_shots_on_target)\n",
    "\n",
    "    print(f'{team_name} had an average possession of {int(total_avg_possession)}%')\n",
    "\n",
    "country_stats_dataframe = pd.DataFrame(country_stats)\n",
    "print(country_stats_dataframe)\n",
    "\n",
    "fig = px.bar(country_stats_dataframe, x='average possession', y='country name', orientation='h')\n",
    "fig.update_layout(barmode='stack', yaxis={'categoryorder':'total ascending'})\n",
    "fig.show()\n",
    "\n"
   ]
  }
 ],
 "metadata": {
  "kernelspec": {
   "display_name": "Python 3.10.2 ('assign_3': venv)",
   "language": "python",
   "name": "python3"
  },
  "language_info": {
   "codemirror_mode": {
    "name": "ipython",
    "version": 3
   },
   "file_extension": ".py",
   "mimetype": "text/x-python",
   "name": "python",
   "nbconvert_exporter": "python",
   "pygments_lexer": "ipython3",
   "version": "3.10.2 (tags/v3.10.2:a58ebcc, Jan 17 2022, 14:12:15) [MSC v.1929 64 bit (AMD64)]"
  },
  "orig_nbformat": 4,
  "vscode": {
   "interpreter": {
    "hash": "944bb282b007ff6289d946bfc786bd635717a39c3d0f031b090e5989052e9ddb"
   }
  }
 },
 "nbformat": 4,
 "nbformat_minor": 2
}
